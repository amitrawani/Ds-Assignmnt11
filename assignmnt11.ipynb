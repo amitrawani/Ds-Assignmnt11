{
 "cells": [
  {
   "cell_type": "code",
   "execution_count": null,
   "id": "8e52a6a1-3a88-40ff-88a2-3642427609d7",
   "metadata": {},
   "outputs": [],
   "source": [
    "Q1. Which function is used to open a file? What are the different modes of opening a file? Explain each mode\n",
    "of file opening.\n",
    "\n",
    "Ans. The function used to open a file in Python is open(). It takes the filename as a parameter and returns a file object that can be used to \n",
    "perform various operations on the file.\n",
    "\n",
    "The different modes of opening a file are:\n",
    "\n",
    "1. Read mode('r'): This is the default mode for opening a file. It allows reading data from the file but does not allow any modifications. \n",
    "If the file does not exist, it will raise a FileNotFoundError exception.\n",
    "\n",
    "2. Write mode('w'): This mode is used to write data to a file. It creates a new file if it doesn't exist or truncates the existing file. \n",
    "If the file already exists, the previous contents are deleted.\n",
    "\n",
    "3. Append mode('a'): This mode is used to append data to an existing file. The file is not truncated, and new data is added to the end of the file. \n",
    "If the file doesn't exist, it creates a new file.\n",
    "\n",
    "4. Exclusive creation mode('x'): This mode is used to create a new file but raises a FileExistsError if the file already exists.\n",
    "\n",
    "5. Binary mode('b'): This mode is used for binary file operations. It can be added to any of the above modes to indicate that the file should be \n",
    "treated as a binary file.\n",
    "\n",
    "6. Text mode('t'): This mode is the default mode for text file operations. It can be added to any of the above modes to indicate that \n",
    "the file should be treated as a text file. "
   ]
  },
  {
   "cell_type": "code",
   "execution_count": null,
   "id": "b241a14b-3f5b-4792-bd7d-0101a79197e2",
   "metadata": {},
   "outputs": [],
   "source": [
    "Q2. Why close() function is used? Why is it important to close a file?\n",
    "\n",
    "Ans: The close() function is used to close a file in Python. It is important to close a file  because:\n",
    "\n",
    "1. Closing a file releases the resources associated with the file, such as memory buffers and system handles. Failing to close a file can lead \n",
    "to resource leaks and can impact the performance of your program.\n",
    "2. Closing a file ensures that any pending writes are flushed to the disk. If you don't close the file, the data may not be written completely,\n",
    "leading to data loss or corruption.\n",
    "3. Closing a file allows other programs or processes to access the file. If a file is left open, it may be locked and inaccessible to other programs."
   ]
  },
  {
   "cell_type": "code",
   "execution_count": null,
   "id": "db051af7-d76c-41c2-96ff-202fd2ed184e",
   "metadata": {},
   "outputs": [],
   "source": [
    "Q3. Write a python program to create a text file. Write ‘I want to become a Data Scientist’ in that file. Then\n",
    "close the file. Open this file and read the content of the file."
   ]
  },
  {
   "cell_type": "code",
   "execution_count": 1,
   "id": "984b6fab-5e9a-4439-85de-ede1ee0711e7",
   "metadata": {},
   "outputs": [
    {
     "name": "stdout",
     "output_type": "stream",
     "text": [
      "I want to become a Data Scientist\n"
     ]
    }
   ],
   "source": [
    "\n",
    "file = open('myfile.txt', 'w')\n",
    "file.write('I want to become a Data Scientist')\n",
    "file.close()\n",
    "\n",
    "\n",
    "file = open('myfile.txt', 'r')\n",
    "content = file.read()\n",
    "file.close()\n",
    "\n",
    "print(content)\n"
   ]
  },
  {
   "cell_type": "code",
   "execution_count": null,
   "id": "9d0b4615-24fa-4a0b-9565-84a46bfde1c5",
   "metadata": {},
   "outputs": [],
   "source": [
    "Q4. Explain the following with python code: read(), readline() and readlines().\n",
    "\n",
    "Ans: the following methods can be used to read the contents of a file:\n",
    "\n",
    "read(): This method reads the entire content of the file and returns it as a string. If no size argument is provided, it reads the entire file.\n",
    "\n",
    "readline(): This method reads a single line from the file and returns it as a string. It moves the file pointer to the next line.\n",
    "\n",
    "readlines(): This method reads all the lines of the file and returns them as a list of strings. Each line is stored as an element in the list."
   ]
  },
  {
   "cell_type": "code",
   "execution_count": 4,
   "id": "d9d34989-2279-40fa-9098-8ae7b025c5fe",
   "metadata": {},
   "outputs": [
    {
     "name": "stdout",
     "output_type": "stream",
     "text": [
      "I want to become a Data Scientist\n",
      "I want to become a Data Scientist\n",
      "\n",
      "['I want to become a Data Scientist']\n"
     ]
    }
   ],
   "source": [
    "# For Example:\n",
    "\n",
    "file = open('myfile.txt', 'r')\n",
    "\n",
    "content = file.read()\n",
    "print(content)\n",
    "\n",
    "file.seek(0)  \n",
    "line1 = file.readline()\n",
    "line2 = file.readline()\n",
    "print(line1)\n",
    "print(line2)\n",
    "\n",
    "file.seek(0)  \n",
    "lines = file.readlines()\n",
    "print(lines)\n",
    "\n",
    "file.close()\n",
    "\n"
   ]
  },
  {
   "cell_type": "code",
   "execution_count": null,
   "id": "fb1285be-f2cb-4d2c-b2d5-96ea3b8a6dc3",
   "metadata": {},
   "outputs": [],
   "source": [
    "Q5. Explain why with statement is used with open(). What is the advantage of using with statement and\n",
    "open() together?\n",
    "\n",
    "Ans: The with statement in Python is used in conjunction with the open() function to ensure proper handling of resources, such as files. \n",
    "The advantage of using the with statement with open() is that it automatically takes care of closing the file, even if an exception occurs.\n",
    "\n",
    "When using the with statement, you don't need to explicitly call the close() function. The with statement sets up a context and guarantees that \n",
    "the file will be closed when the block of code inside the with statement is exited, regardless of how the block is exited \n",
    "(e.g., normal execution, an exception being raised, etc.)."
   ]
  },
  {
   "cell_type": "code",
   "execution_count": null,
   "id": "175aa385-bbf4-4049-8b5c-1aae8661e78a",
   "metadata": {},
   "outputs": [],
   "source": [
    "Q6. Explain the write() and writelines() functions. Give a suitable example.\n",
    "\n",
    "Ans: the write() function is used to write a string to a file, while the writelines() function is used to write a list of strings to a file.\n",
    "example:"
   ]
  },
  {
   "cell_type": "code",
   "execution_count": 8,
   "id": "dc01ff7e-de56-46d5-8dd8-8bae1ae347db",
   "metadata": {},
   "outputs": [],
   "source": [
    "\n",
    "file = open('mydata.txt', 'w')\n",
    "\n",
    "file.write('Hello, World!\\n')\n",
    "file.write('This is a sample file.')\n",
    "\n",
    "lines = ['Line 1\\n', 'Line 2\\n', 'Line 3\\n']\n",
    "file.writelines(lines)\n",
    "\n",
    "file.close()\n"
   ]
  },
  {
   "cell_type": "code",
   "execution_count": null,
   "id": "276ef589-3a99-4aa8-a114-cda1d9c4cd6d",
   "metadata": {},
   "outputs": [],
   "source": []
  }
 ],
 "metadata": {
  "kernelspec": {
   "display_name": "Python 3 (ipykernel)",
   "language": "python",
   "name": "python3"
  },
  "language_info": {
   "codemirror_mode": {
    "name": "ipython",
    "version": 3
   },
   "file_extension": ".py",
   "mimetype": "text/x-python",
   "name": "python",
   "nbconvert_exporter": "python",
   "pygments_lexer": "ipython3",
   "version": "3.10.8"
  }
 },
 "nbformat": 4,
 "nbformat_minor": 5
}
